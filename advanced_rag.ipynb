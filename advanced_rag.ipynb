
{
 "cells": [
  {
   "cell_type": "markdown",
   "metadata": {},
   "source": [
    "## The Problem:\n",
    "When you're trying to search through a massive amount of text (like millions or billions of documents), you want to quickly find the most relevant information. To do this, we convert text into numerical representations called \"vectors\" and use these vectors to search.\n",
    "\n",
    "However, because these vectors are compressed versions of the text, they might miss out on some details. As a result, the top search results might not always include the most useful information. If important info is further down the list, the search might miss it because it's only looking at the top few results.\n",
    "\n",
    "## What Can We Do?\n",
    "One approach is to increase the number of documents (let's say from the top 3 to the top 10) that we send to our AI to generate a response. This improves our chances of finding relevant information.\n",
    "\n",
    "But there's a catch: AI systems (like language models) can only handle a certain amount of text at a time, called a \"context window.\" If you stuff too much information into this window, the AI might get confused and perform worse, like trying to cram too much information into your brain at once.\n",
    "\n",
    "## The Solution:\n",
    "Instead of just dumping more documents into the AI's context window, we need to be smart about which documents we pick. This is where rerankers come in.\n",
    "\n",
    "## Rerankers:\n",
    "Rerankers are tools that take a closer look at the documents retrieved from the initial search and reorder them based on how relevant they are to the query. They do this by analyzing the query and the documents together, which helps them understand the context better and pick out the most useful information.\n",
    "\n",
    "Even though rerankers are slower than the initial search, they are much more accurate. They help ensure that the most relevant documents are passed on to the AI, leading to better results.\n"
   ]
  },
  {
   "cell_type": "code",
   "execution_count": 17,
   "metadata": {},
   "outputs": [
    {
     "data": {
      "text/plain": [
       "True"
      ]
     },
     "execution_count": 17,
     "metadata": {},
     "output_type": "execute_result"
    }
   ],
   "source": [
    "from langchain_google_genai import GoogleGenerativeAIEmbeddings\n",
    "from langchain.text_splitter import RecursiveCharacterTextSplitter\n",
    "from langchain_community.document_loaders import TextLoader, DirectoryLoader\n",
    "from langchain_community.vectorstores import Chroma\n",
    "from dotenv import load_dotenv, find_dotenv\n",
    "\n",
    "load_dotenv(find_dotenv())"
   ]
  },
  {
   "cell_type": "code",
   "execution_count": 18,
   "metadata": {},
   "outputs": [],
   "source": [
    "loader = DirectoryLoader('./', glob=\"./*.txt\", loader_cls=TextLoader)\n",
    "docs = loader.load()"
   ]
  },
  {
   "cell_type": "code",
   "execution_count": 19,
   "metadata": {},
   "outputs": [],
   "source": [
    "text_splitter = RecursiveCharacterTextSplitter(\n",
    "    chunk_size=100,\n",
    "    chunk_overlap=10,\n",
    "    length_function=len\n",
    ")\n",
    "new_docs = text_splitter.split_documents(documents=docs)\n",
    "doc_strings = [doc.page_content for doc in new_docs]"
   ]
  },
  {
   "cell_type": "code",
   "execution_count": 20,
   "metadata": {},
   "outputs": [],
   "source": [
    "import os\n",
    "# os.environ[\"GOOGLE_API_KEY\"]=os.getenv(\"GOOGLE_API_KEY\")\n",
    "embeddings = GoogleGenerativeAIEmbeddings(model=\"models/embedding-001\",google_api_key=os.getenv(\"GOOGLE_API_KEY\"))\n",
    "vectors = embeddings.embed_documents(doc_strings)"
   ]
  },
  {
   "cell_type": "code",
   "execution_count": 21,
   "metadata": {},
   "outputs": [],
   "source": [
    "db = Chroma.from_documents(new_docs, embeddings)\n",
    "retriever = db.as_retriever(search_kwargs={\"k\": 6})"
   ]
  },
  {
   "cell_type": "code",
   "execution_count": 22,
   "metadata": {},
   "outputs": [
    {
     "name": "stderr",
     "output_type": "stream",
     "text": [
      "/home/fx/Downloads/Projects/reranker-rag/venv/lib/python3.10/site-packages/umap/umap_.py:1945: UserWarning: n_jobs value 1 overridden to 1 by setting random_state. Use no seed for parallelism.\n",
      "  warn(f\"n_jobs value {self.n_jobs} overridden to 1 by setting random_state. Use no seed for parallelism.\")\n"
     ]
    }
   ],
   "source": [
    "import umap\n",
    "import numpy as np\n",
    "from tqdm import tqdm\n",
    "\n",
    "umap_transformer = umap.UMAP(random_state=0, transform_seed=0).fit(vectors)"
   ]
  },
  {
   "cell_type": "code",
   "execution_count": 23,
   "metadata": {},
   "outputs": [],
   "source": [
    "def umap_embed(vectors, umap_transformer):\n",
    "    umap_embeddings = np.array([umap_transformer.transform([vector])[0] for vector in tqdm(vectors)])\n",
    "    return umap_embeddings"
   ]
  },
  {
   "cell_type": "code",
   "execution_count": 24,
   "metadata": {},
   "outputs": [
    {
     "name": "stderr",
     "output_type": "stream",
     "text": [
      "100%|██████████| 65/65 [00:43<00:00,  1.50it/s]\n"
     ]
    }
   ],
   "source": [
    "global_embeddings = umap_embed(vectors, umap_transformer)"
   ]
  },
  {
   "cell_type": "code",
   "execution_count": 25,
   "metadata": {},
   "outputs": [
    {
     "data": {
      "text/plain": [
       "array([[10.428451 , 13.608632 ],\n",
       "       [10.969886 , 11.94414  ],\n",
       "       [12.242725 , 10.02356  ],\n",
       "       [10.593955 , 12.835594 ],\n",
       "       [11.381565 ,  9.746835 ],\n",
       "       [12.581392 , 11.679139 ],\n",
       "       [12.625462 , 11.565149 ],\n",
       "       [10.053583 , 10.805386 ],\n",
       "       [12.801433 , 11.46279  ],\n",
       "       [12.710727 , 11.489691 ],\n",
       "       [12.73828  , 11.601278 ],\n",
       "       [10.854056 , 11.8555565],\n",
       "       [13.010086 , 11.280299 ],\n",
       "       [12.313394 , 10.166869 ],\n",
       "       [12.17439  , 10.013516 ],\n",
       "       [10.716252 , 12.788968 ],\n",
       "       [13.09522  , 10.766002 ],\n",
       "       [11.865057 ,  9.762846 ],\n",
       "       [10.708084 , 12.709639 ],\n",
       "       [10.490971 , 11.727838 ],\n",
       "       [10.106676 , 11.188516 ],\n",
       "       [ 9.9933605, 10.650376 ],\n",
       "       [11.824997 , 12.853898 ],\n",
       "       [12.547633 , 11.738985 ],\n",
       "       [12.513482 , 11.749379 ],\n",
       "       [10.812041 , 12.683859 ],\n",
       "       [11.138178 ,  9.838744 ],\n",
       "       [10.021607 , 10.776694 ],\n",
       "       [10.395122 , 13.054457 ],\n",
       "       [10.35541  ,  8.72534  ],\n",
       "       [ 9.72824  , 10.404064 ],\n",
       "       [10.5400305, 12.86352  ],\n",
       "       [10.973706 , 11.905657 ],\n",
       "       [ 9.946599 , 10.592456 ],\n",
       "       [ 9.364532 ,  9.646153 ],\n",
       "       [10.3554   ,  8.799506 ],\n",
       "       [ 9.087976 ,  5.402506 ],\n",
       "       [10.050775 ,  8.297713 ],\n",
       "       [ 8.685159 ,  5.8788857],\n",
       "       [ 8.436742 ,  9.232278 ],\n",
       "       [ 8.189505 ,  6.880424 ],\n",
       "       [ 8.551255 ,  6.1543846],\n",
       "       [ 7.5930004,  7.3069215],\n",
       "       [ 8.048986 ,  6.9129486],\n",
       "       [ 7.608472 ,  7.3006077],\n",
       "       [ 7.7285304,  7.1484437],\n",
       "       [ 8.749662 ,  5.75607  ],\n",
       "       [ 8.245515 ,  9.135416 ],\n",
       "       [ 7.7701354,  8.999365 ],\n",
       "       [ 8.192603 ,  9.099514 ],\n",
       "       [ 8.579501 ,  6.127933 ],\n",
       "       [ 7.9553704,  6.9545836],\n",
       "       [ 7.4926405,  7.478984 ],\n",
       "       [ 7.3573165,  7.541588 ],\n",
       "       [ 8.732279 ,  9.279105 ],\n",
       "       [ 9.064033 ,  5.414054 ],\n",
       "       [10.117074 ,  7.4269853],\n",
       "       [10.014803 ,  8.3700485],\n",
       "       [10.565278 ,  6.4704475],\n",
       "       [ 7.266809 ,  8.069107 ],\n",
       "       [ 8.853564 ,  5.6316423],\n",
       "       [10.042058 ,  7.431426 ],\n",
       "       [10.200308 ,  8.195959 ],\n",
       "       [ 9.169375 ,  5.3653035],\n",
       "       [10.063867 ,  7.410858 ]], dtype=float32)"
      ]
     },
     "execution_count": 25,
     "metadata": {},
     "output_type": "execute_result"
    }
   ],
   "source": [
    "global_embeddings"
   ]
  },
  {
   "cell_type": "code",
   "execution_count": 26,
   "metadata": {},
   "outputs": [
    {
     "data": {
      "text/plain": [
       "(6.97538845539093, 13.38664014339447, 4.95313708782196, 14.020798516273498)"
      ]
     },
     "execution_count": 26,
     "metadata": {},
     "output_type": "execute_result"
    },
    {
     "data": {
      "image/png": "[encoded data removed]",
      "text/plain": [
       "<Figure size 640x480 with 1 Axes>"
      ]
     },
     "metadata": {},
     "output_type": "display_data"
    }
   ],
   "source": [
    "import matplotlib.pyplot as plt\n",
    "\n",
    "plt.figure()\n",
    "plt.scatter(global_embeddings[:, 0], global_embeddings[:, 1], s=10)\n",
    "plt.gca().set_aspect('equal', 'datalim')\n",
    "plt.title('Embeddings')\n",
    "plt.axis('off')"
   ]
  },
  {
   "cell_type": "code",
   "execution_count": 27,
   "metadata": {},
   "outputs": [],
   "source": [
    "def calc_global_embeddings(query, embeddings, retriever, umap_transformer, embed_function, global_embeddings):\n",
    "    q_embedding = embeddings.embed_query(query)\n",
    "\n",
    "    docs = retriever.get_relevant_documents(query)\n",
    "    page_contents = [doc.page_content for doc in docs]\n",
    "    vectors_content_vectors = embeddings.embed_documents(page_contents)\n",
    "\n",
    "    query_embeddings = embed_function([q_embedding], umap_transformer)\n",
    "    retrieved_embeddings = embed_function(vectors_content_vectors, umap_transformer)\n",
    "\n",
    "    plt.figure()\n",
    "    plt.scatter(global_embeddings[:, 0], global_embeddings[:, 1], s=10, color='gray')\n",
    "    plt.scatter(query_embeddings[:, 0], query_embeddings[:, 1], s=150, marker='X', color='r')\n",
    "    plt.scatter(retrieved_embeddings[:, 0], retrieved_embeddings[:, 1], s=50, facecolors='none', edgecolors='g')\n",
    "    plt.gca().set_aspect('equal', 'datalim')\n",
    "    plt.title(f'{query}')\n",
    "    plt.axis('off')\n",
    "    plt.show()\n"
   ]
  },
  {
   "cell_type": "code",
   "execution_count": 28,
   "metadata": {},
   "outputs": [
    {
     "name": "stderr",
     "output_type": "stream",
     "text": [
      "/home/fx/Downloads/Projects/reranker-rag/venv/lib/python3.10/site-packages/langchain_core/_api/deprecation.py:151: LangChainDeprecationWarning: The method `BaseRetriever.get_relevant_documents` was deprecated in langchain-core 0.1.46 and will be removed in 1.0. Use invoke instead.\n",
      "  warn_deprecated(\n",
      "100%|██████████| 1/1 [00:00<00:00,  1.67it/s]\n",
      "100%|██████████| 6/6 [00:03<00:00,  1.68it/s]\n"
     ]
    },
    {
     "data": {
      "image/png": "[encoded data removed]",
      "text/plain": [
       "<Figure size 640x480 with 1 Axes>"
      ]
     },
     "metadata": {},
     "output_type": "display_data"
    }
   ],
   "source": [
    "calc_global_embeddings(\"What loan do you offer?\", embeddings, retriever, umap_transformer, umap_embed, global_embeddings)"
   ]
  },
  {
   "cell_type": "code",
   "execution_count": 29,
   "metadata": {},
   "outputs": [
    {
     "name": "stderr",
     "output_type": "stream",
     "text": [
      "100%|██████████| 1/1 [00:00<00:00,  1.31it/s]\n",
      "100%|██████████| 6/6 [00:03<00:00,  1.68it/s]\n"
     ]
    },
    {
     "data": {
      "image/png": "[encoded data removed]",
      "text/plain": [
       "<Figure size 640x480 with 1 Axes>"
      ]
     },
     "metadata": {},
     "output_type": "display_data"
    }
   ],
   "source": [
    "calc_global_embeddings(\"Do you offer vegetarian food?\", embeddings, retriever, umap_transformer, umap_embed, global_embeddings)\n"
   ]
  },
  {
   "cell_type": "markdown",
   "metadata": {},
   "source": [
    "### Query Expansion "
   ]
  },
  {
   "cell_type": "code",
   "execution_count": 30,
   "metadata": {},
   "outputs": [],
   "source": [
    "import os\n",
    "from langchain_google_genai import ChatGoogleGenerativeAI\n",
    "os.environ[\"GOOGLE_API_KEY\"]=os.getenv(\"GOOGLE_API_KEY\")\n",
    "llm = ChatGoogleGenerativeAI(\n",
    "    model=\"gemini-1.5-pro\",\n",
    "    temperature=0,\n",
    "    max_tokens=None,\n",
    "    timeout=None,\n",
    "    max_retries=2,\n",
    ")"
   ]
  },
  {
   "cell_type": "code",
   "execution_count": 41,
   "metadata": {},
   "outputs": [],
   "source": [
    "from langchain.prompts import PromptTemplate\n",
    "\n",
    "query = \"Do you offer vegetarian food?\"\n",
    "\n",
    "\n",
    "QUERY_PROMPT = PromptTemplate(\n",
    "    input_variables=[\"question\"],\n",
    "    template=\"\"\"You are an AI language model assistant. Your task is to generate five\n",
    "    different versions of the given user question to retrieve relevant documents from a vector\n",
    "    database. By generating multiple perspectives on the user question, your goal is to help\n",
    "    the user overcome some of the limitations of the distance-based similarity search.\n",
    "    Provide these alternative questions separated by newlines. Only provide the query, no numbering.\n",
    "    Original question: {question}\"\"\",\n",
    ")\n",
    "\n",
    "llm_chain = QUERY_PROMPT |llm\n",
    "queries = llm_chain.invoke(query)\n",
    "queries = list(queries.content.split(\"\\n\"))\n",
    "# print(queries)"
   ]
  },
  {
   "cell_type": "code",
   "execution_count": 42,
   "metadata": {},
   "outputs": [],
   "source": [
    "from langchain.output_parsers import PydanticOutputParser\n",
    "from langchain.prompts import ChatPromptTemplate\n",
    "from langchain_core.output_parsers import StrOutputParser\n",
    "\n",
    "query = \"Do you offer vegetarian food?\"\n",
    "\n",
    "output_parser = StrOutputParser()\n",
    "\n",
    "QUERY_PROMPT = ChatPromptTemplate.from_messages(\n",
    "     [\n",
    "    (\n",
    "        \"system\",\n",
    "        \"\"\"You are an AI language model assistant. Your task is to generate five\n",
    "    different versions of the given user question to retrieve relevant documents from a vector\n",
    "    database. By generating multiple perspectives on the user question, your goal is to help\n",
    "    the user overcome some of the limitations of the distance-based similarity search.\n",
    "    Provide these alternative questions separated by newlines. Only provide the query, no numbering.\n",
    "    Original question: {question}\"\"\",\n",
    "    ),\n",
    "    (\"human\", \"{question}\"),\n",
    "]\n",
    ")\n",
    "\n",
    "\n"
   ]
  },
  {
   "cell_type": "code",
   "execution_count": 43,
   "metadata": {},
   "outputs": [
    {
     "data": {
      "text/plain": [
       "['What vegetarian options are available?',\n",
       " \"What's on the menu for vegetarians?\",\n",
       " 'Can I get a meal without meat?',\n",
       " 'Do you have plant-based dishes?',\n",
       " 'Is there anything vegetarian-friendly? ',\n",
       " '']"
      ]
     },
     "execution_count": 43,
     "metadata": {},
     "output_type": "execute_result"
    }
   ],
   "source": [
    "queries"
   ]
  },
  {
   "cell_type": "code",
   "execution_count": 46,
   "metadata": {},
   "outputs": [],
   "source": [
    "docs = [retriever.get_relevant_documents(query) for query in queries]"
   ]
  },
  {
   "cell_type": "code",
   "execution_count": 47,
   "metadata": {},
   "outputs": [],
   "source": [
    "unique_contents = set()\n",
    "unique_docs = []\n",
    "for sublist in docs:\n",
    "    for doc in sublist:\n",
    "        if doc.page_content not in unique_contents:\n",
    "            unique_docs.append(doc)\n",
    "            unique_contents.add(doc.page_content)\n",
    "unique_contents = list(unique_contents)"
   ]
  },
  {
   "cell_type": "code",
   "execution_count": 48,
   "metadata": {},
   "outputs": [
    {
     "data": {
      "text/plain": [
       "['the overall dining experience.',\n",
       " 'dietary preferences. Dishes like eggplant parmigiana and mushroom risotto are crafted with the same',\n",
       " 'and gnocchi, each prepared with homemade pasta and cooked to perfection. The sauces, ranging from',\n",
       " 'the same attention to detail and flavor as their meat-based counterparts.',\n",
       " 'The pasta selection is a highlight of the menu, featuring classics like lasagna, ravioli, and',\n",
       " 'The meat and fish dishes are equally impressive, with offerings like osso buco, saltimbocca, and',\n",
       " 'La Bella Vita also prides itself on its vegetarian and vegan options, catering to all dietary',\n",
       " 'savings strategies to more complex investment and tax planning concepts. These educational',\n",
       " 'possible, providing support and advice at every step.',\n",
       " 'to make informed financial decisions.',\n",
       " 'and grilled branzino. These dishes are cooked with traditional methods, ensuring every bite is',\n",
       " 'creating an unforgettable dining experience that keeps guests coming back for more.',\n",
       " 'from rich and creamy to light and zesty, are made with the freshest ingredients, bringing out the']"
      ]
     },
     "execution_count": 48,
     "metadata": {},
     "output_type": "execute_result"
    }
   ],
   "source": [
    "unique_contents"
   ]
  },
  {
   "cell_type": "markdown",
   "metadata": {},
   "source": [
    "# Cross-encoder re-ranking"
   ]
  },
  {
   "cell_type": "code",
   "execution_count": 49,
   "metadata": {},
   "outputs": [
    {
     "name": "stderr",
     "output_type": "stream",
     "text": [
      "/home/fx/Downloads/Projects/reranker-rag/venv/lib/python3.10/site-packages/transformers/tokenization_utils_base.py:1601: FutureWarning: `clean_up_tokenization_spaces` was not set. It will be set to `True` by default. This behavior will be depracted in transformers v4.45, and will be then set to `False` by default. For more details check this issue: https://github.com/huggingface/transformers/issues/31884\n",
      "  warnings.warn(\n"
     ]
    }
   ],
   "source": [
    "from sentence_transformers import CrossEncoder\n",
    "cross_encoder = CrossEncoder('cross-encoder/ms-marco-MiniLM-L-6-v2')"
   ]
  },
  {
   "cell_type": "code",
   "execution_count": 50,
   "metadata": {},
   "outputs": [],
   "source": [
    "pairs = []\n",
    "for doc in unique_contents:\n",
    "    pairs.append([query, doc])"
   ]
  },
  {
   "cell_type": "code",
   "execution_count": 51,
   "metadata": {},
   "outputs": [
    {
     "data": {
      "text/plain": [
       "array([-10.925325 ,  -9.750738 , -10.969239 , -10.356451 , -10.774685 ,\n",
       "        -8.007286 ,  -2.7005744, -11.276547 , -10.847548 , -11.144098 ,\n",
       "       -10.625803 , -11.23642  , -10.663025 ], dtype=float32)"
      ]
     },
     "execution_count": 51,
     "metadata": {},
     "output_type": "execute_result"
    }
   ],
   "source": [
    "scores = cross_encoder.predict(pairs)\n",
    "scores"
   ]
  },
  {
   "cell_type": "code",
   "execution_count": 52,
   "metadata": {},
   "outputs": [
    {
     "data": {
      "text/plain": [
       "[(-2.7005744,\n",
       "  'La Bella Vita also prides itself on its vegetarian and vegan options, catering to all dietary'),\n",
       " (-8.007286,\n",
       "  'The meat and fish dishes are equally impressive, with offerings like osso buco, saltimbocca, and'),\n",
       " (-9.750738,\n",
       "  'dietary preferences. Dishes like eggplant parmigiana and mushroom risotto are crafted with the same'),\n",
       " (-10.356451,\n",
       "  'the same attention to detail and flavor as their meat-based counterparts.'),\n",
       " (-10.625803,\n",
       "  'and grilled branzino. These dishes are cooked with traditional methods, ensuring every bite is'),\n",
       " (-10.663025,\n",
       "  'from rich and creamy to light and zesty, are made with the freshest ingredients, bringing out the'),\n",
       " (-10.774685,\n",
       "  'The pasta selection is a highlight of the menu, featuring classics like lasagna, ravioli, and'),\n",
       " (-10.847548, 'possible, providing support and advice at every step.'),\n",
       " (-10.925325, 'the overall dining experience.'),\n",
       " (-10.969239,\n",
       "  'and gnocchi, each prepared with homemade pasta and cooked to perfection. The sauces, ranging from'),\n",
       " (-11.144098, 'to make informed financial decisions.'),\n",
       " (-11.23642,\n",
       "  'creating an unforgettable dining experience that keeps guests coming back for more.'),\n",
       " (-11.276547,\n",
       "  'savings strategies to more complex investment and tax planning concepts. These educational')]"
      ]
     },
     "execution_count": 52,
     "metadata": {},
     "output_type": "execute_result"
    }
   ],
   "source": [
    "scored_docs = zip(scores, unique_contents)\n",
    "sorted_docs = sorted(scored_docs, reverse=True)\n",
    "sorted_docs"
   ]
  },
  {
   "cell_type": "code",
   "execution_count": 53,
   "metadata": {},
   "outputs": [
    {
     "data": {
      "text/plain": [
       "['La Bella Vita also prides itself on its vegetarian and vegan options, catering to all dietary',\n",
       " 'The meat and fish dishes are equally impressive, with offerings like osso buco, saltimbocca, and',\n",
       " 'dietary preferences. Dishes like eggplant parmigiana and mushroom risotto are crafted with the same',\n",
       " 'the same attention to detail and flavor as their meat-based counterparts.',\n",
       " 'and grilled branzino. These dishes are cooked with traditional methods, ensuring every bite is',\n",
       " 'from rich and creamy to light and zesty, are made with the freshest ingredients, bringing out the',\n",
       " 'The pasta selection is a highlight of the menu, featuring classics like lasagna, ravioli, and',\n",
       " 'possible, providing support and advice at every step.']"
      ]
     },
     "execution_count": 53,
     "metadata": {},
     "output_type": "execute_result"
    }
   ],
   "source": [
    "reranked_docs = [doc for _, doc in sorted_docs][0:8]\n",
    "reranked_docs"
   ]
  },
  {
   "cell_type": "markdown",
   "metadata": {},
   "source": [
    "### Lost in the middle Problem"
   ]
  },
  {
   "cell_type": "code",
   "execution_count": 54,
   "metadata": {},
   "outputs": [],
   "source": [
    "from langchain_community.document_transformers import (\n",
    "    LongContextReorder\n",
    ")"
   ]
  },
  {
   "cell_type": "code",
   "execution_count": 55,
   "metadata": {},
   "outputs": [
    {
     "data": {
      "text/plain": [
       "['The meat and fish dishes are equally impressive, with offerings like osso buco, saltimbocca, and',\n",
       " 'the same attention to detail and flavor as their meat-based counterparts.',\n",
       " 'from rich and creamy to light and zesty, are made with the freshest ingredients, bringing out the',\n",
       " 'possible, providing support and advice at every step.',\n",
       " 'The pasta selection is a highlight of the menu, featuring classics like lasagna, ravioli, and',\n",
       " 'and grilled branzino. These dishes are cooked with traditional methods, ensuring every bite is',\n",
       " 'dietary preferences. Dishes like eggplant parmigiana and mushroom risotto are crafted with the same',\n",
       " 'La Bella Vita also prides itself on its vegetarian and vegan options, catering to all dietary']"
      ]
     },
     "execution_count": 55,
     "metadata": {},
     "output_type": "execute_result"
    }
   ],
   "source": [
    "reordering = LongContextReorder()\n",
    "reordered_docs = reordering.transform_documents(reranked_docs)\n",
    "reordered_docs"
   ]
  }
 ],
 "metadata": {
  "kernelspec": {
   "display_name": "app",
   "language": "python",
   "name": "python3"
  },
  "language_info": {
   "codemirror_mode": {
    "name": "ipython",
    "version": 3
   },
   "file_extension": ".py",
   "mimetype": "text/x-python",
   "name": "python",
   "nbconvert_exporter": "python",
   "pygments_lexer": "ipython3",
   "version": "3.10.12"
  }
 },
 "nbformat": 4,
 "nbformat_minor": 2
}
